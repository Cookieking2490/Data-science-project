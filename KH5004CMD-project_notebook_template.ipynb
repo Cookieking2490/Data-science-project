{
 "cells": [
  {
   "cell_type": "markdown",
   "metadata": {},
   "source": [
    "# Data Science Project Workflow\n",
    "\n",
    "## Project Overview\n",
    "- **Objective**: Define the problem and goals of the project.\n",
    "- **Milestones**: Data Collection, Exploration, Preprocessing, Advanced Analysis, Model Development, Deployment, and Final Documentation.\n",
    "\n",
    "---"
   ]
  },
  {
   "cell_type": "markdown",
   "metadata": {},
   "source": [
    "## Domain and Research Questions\n",
    "\n",
    "### Domain of the Project\n",
    "- Social Media Sentiment Analysis\n",
    "\n",
    "### Research Questions to be Answered\n",
    "1. **Question 1**: Create an NLP model for predicting Sentiment values for comments.\n",
    "2. **Question 2**: is there any correlation with comment length and Sentiment values?\n",
    "3. **Question 3**: \n",
    "4. [Add more questions if applicable]\n",
    "\n",
    "---"
   ]
  },
  {
   "cell_type": "markdown",
   "metadata": {},
   "source": [
    "\n",
    "## Student Information\n",
    "- **Name**: Ahmed Mohsen Ahmed \n",
    "- **Email**: AA2200061@tkh.edu.eg\n",
    "- **Role**: Data Science Student  \n",
    "- **Institution**: [Insert Institution Name]"
   ]
  },
  {
   "cell_type": "markdown",
   "metadata": {},
   "source": [
    "# Milestone 1: Data Collection, Exploration, and Preprocessing"
   ]
  },
  {
   "cell_type": "markdown",
   "metadata": {},
   "source": [
    "## Data Collection\n",
    "- Acquire a dataset from reliable sources (e.g., Kaggle, UCI Repository, or APIs).\n",
    "- **Scraping Data**:\n",
    "  - Increase dataset size through web scraping or APIs (e.g., Selenium, BeautifulSoup).\n",
    "  - Explore public repositories or other accessible sources for additional data."
   ]
  },
  {
   "cell_type": "markdown",
   "metadata": {},
   "source": [
    "<h1>Scraping Data code From Reddit<h1>"
   ]
  },
  {
   "cell_type": "code",
   "execution_count": 9,
   "metadata": {},
   "outputs": [
    {
     "name": "stdout",
     "output_type": "stream",
     "text": [
      "Scaraping complete data has been saved in csv file\n"
     ]
    }
   ],
   "source": [
    "#Scraping data from reddit about the election 2024\n",
    "\n",
    "import praw\n",
    "import pandas as pd\n",
    "\n",
    "reddit=praw.Reddit(\n",
    "    client_id=\"Raq1WTzBXzVbkVpKCmmFwA\",\n",
    "    client_secret=\"5mBPGIKnY74-p0tzaRoVgFrs94i4rw\",\n",
    "    user_agent=\"Scraper\"\n",
    ")\n",
    "\n",
    "def fetch_comments(subreddit,p_limit=100):\n",
    "    subreddit_obj=reddit.subreddit(subreddit)\n",
    "    data=[]\n",
    "\n",
    "    for post in subreddit_obj.hot(limit=p_limit):\n",
    "        post.comments.replace_more(limit=0)\n",
    "        post_id=post.id\n",
    "        post_title= post.title\n",
    "        for comment in post.comments.list():\n",
    "            comment_id=comment.id\n",
    "            user_id=comment.author.name if comment.author else'N/A'\n",
    "            data.append([post_id,post_title,comment_id ,user_id,comment.body])\n",
    "    return data\n",
    "comments_data=fetch_comments(\"2024Election\",p_limit=50)\n",
    "\n",
    "df=pd.DataFrame(comments_data,columns=[\"Post ID\",\"Post Title\",\"Comment ID\",\"User ID\",\"Comment\"])\n",
    "df.to_csv(\"C:/Users/Dell/Desktop/Data science stuff/Project Data/Datasets/Election2024.csv\",index=False)\n",
    "\n",
    "print(\"Scaraping complete data has been saved in csv file\")"
   ]
  },
  {
   "cell_type": "markdown",
   "metadata": {},
   "source": [
    "## Dataset Description\n",
    "- Create a table to explain:\n",
    "  - \n",
    "  - **Data Types**\n",
    "  - **Descriptions**\n",
    "  - **Potential Use in Analysis**"
   ]
  },
  {
   "cell_type": "markdown",
   "metadata": {},
   "source": [
    "# Calculating comment length for datasets"
   ]
  },
  {
   "cell_type": "code",
   "execution_count": 28,
   "metadata": {},
   "outputs": [
    {
     "name": "stdout",
     "output_type": "stream",
     "text": [
      "Updated train and test datasets with Comment Length saved!\n"
     ]
    }
   ],
   "source": [
    "#calculate length of comment\n",
    "import pandas as pd\n",
    "\n",
    "# Load the train and test datasets\n",
    "train_df = pd.read_csv(\"C:\\\\Users\\\\Dell\\\\Desktop\\\\Data science stuff\\\\Project Data\\\\Datasets\\\\election data\\\\train.csv\")\n",
    "test_df = pd.read_csv(\"C:\\\\Users\\\\Dell\\\\Desktop\\\\Data science stuff\\\\Project Data\\\\Datasets\\\\election data\\\\test.csv\")\n",
    "\n",
    "# Add a new column for comment length\n",
    "train_df[\"Comment Length\"] = train_df[\"Comment\"].apply(len)\n",
    "test_df[\"Comment Length\"] = test_df[\"Comment\"].apply(len)\n",
    "\n",
    "# Save the updated datasets\n",
    "train_df.to_csv(\"C:\\\\Users\\\\Dell\\\\Desktop\\\\Data science stuff\\\\Project Data\\\\Datasets\\\\election data\\\\train.csv\", index=False)\n",
    "test_df.to_csv(\"C:\\\\Users\\\\Dell\\\\Desktop\\\\Data science stuff\\\\Project Data\\\\Datasets\\\\election data\\\\test.csv\", index=False)\n",
    "\n",
    "print(\"Updated train and test datasets with Comment Length saved!\")\n"
   ]
  },
  {
   "cell_type": "markdown",
   "metadata": {},
   "source": [
    "## Putting the dataset with scrapped data"
   ]
  },
  {
   "cell_type": "code",
   "execution_count": 29,
   "metadata": {},
   "outputs": [
    {
     "name": "stdout",
     "output_type": "stream",
     "text": [
      "Scraped data successfully merged into train.csv and test.csv!\n"
     ]
    }
   ],
   "source": [
    "#Putting data together from train and test files excel\n",
    "\n",
    "import pandas as pd\n",
    "from sklearn.model_selection import train_test_split\n",
    "\n",
    "# Load datasets\n",
    "train_df = pd.read_csv(\"C:\\\\Users\\\\Dell\\\\Desktop\\\\Data science stuff\\\\Project Data\\\\Datasets\\\\election data\\\\train.csv\")\n",
    "test_df = pd.read_csv(\"C:\\\\Users\\\\Dell\\\\Desktop\\\\Data science stuff\\\\Project Data\\\\Datasets\\\\election data\\\\test.csv\")\n",
    "reddit_df = pd.read_csv(\"C:\\\\Users\\\\Dell\\\\Desktop\\\\Data science stuff\\\\Project Data\\\\Datasets\\\\Election2024.csv\")  # Scraped data\n",
    "\n",
    "# Split scraped data into 75% train and 25% test\n",
    "reddit_train, reddit_test = train_test_split(reddit_df, test_size=0.25, random_state=42)\n",
    "\n",
    "# Merge with existing train and test datasets\n",
    "train_df = pd.concat([train_df, reddit_train], ignore_index=True)\n",
    "test_df = pd.concat([test_df, reddit_test], ignore_index=True)\n",
    "\n",
    "# Save updated datasets\n",
    "train_df.to_csv(\"C:\\\\Users\\\\Dell\\\\Desktop\\\\Data science stuff\\\\Project Data\\\\Datasets\\\\election data\\\\train.csv\", index=False)\n",
    "test_df.to_csv(\"C:\\\\Users\\\\Dell\\\\Desktop\\\\Data science stuff\\\\Project Data\\\\Datasets\\\\election data\\\\test.csv\", index=False)\n",
    "\n",
    "print(\"Scraped data successfully merged into train.csv and test.csv!\")\n"
   ]
  },
  {
   "cell_type": "markdown",
   "metadata": {},
   "source": [
    "## Data Exploration\n",
    "- Summary statistics (mean, median, variance).\n",
    "- Identify missing values, duplicates, and outliers.\n",
    "- Data distribution visualizations: histograms, box plots, scatter plots."
   ]
  },
  {
   "cell_type": "markdown",
   "metadata": {},
   "source": [
    "# Creating new coloum to measure lenght of each comment"
   ]
  },
  {
   "cell_type": "code",
   "execution_count": 10,
   "metadata": {},
   "outputs": [
    {
     "name": "stdout",
     "output_type": "stream",
     "text": [
      "<bound method NDFrame.head of                                                Comment  Comment Length\n",
      "0    I can’t wait to vote for Harris/Walz!!\\nAlread...             126\n",
      "1    Seems odd to pretend that there's any serious ...             421\n",
      "2    I’m sorry but I fail to understand? In what wo...             112\n",
      "3    So, this may have been posted before, if so, f...             256\n",
      "4    If trump doesn't win there will be a revolutio...             416\n",
      "..                                                 ...             ...\n",
      "453  Ill vote for you. (I dont live in the us and i...              57\n",
      "454  :D thank you, you made me laugh. For the futur...              70\n",
      "455  \\n# *DOWNLOAD MOVIE \"Once Upon a Time in the W...            4511\n",
      "456  Not long enough for how important of a topic t...              53\n",
      "457  Come on Trump went on about his shoes and then...            2282\n",
      "\n",
      "[458 rows x 2 columns]>\n"
     ]
    }
   ],
   "source": [
    "# since data is mainly text we will measure length of comment then with number from each comment we can get mean median from it\n",
    "df[\"Comment Length\"]= df[\"Comment\"].apply(len)\n",
    "\n",
    "print(df[['Comment',\"Comment Length\"]].head)\n",
    "df.to_csv(\"C:/Users/Dell/Desktop/Data science stuff/Project Data/Datasets/Election2024.csv\",index=False)"
   ]
  },
  {
   "cell_type": "markdown",
   "metadata": {},
   "source": [
    "# Calculating Mean, Median, Variance"
   ]
  },
  {
   "cell_type": "code",
   "execution_count": 11,
   "metadata": {},
   "outputs": [
    {
     "name": "stdout",
     "output_type": "stream",
     "text": [
      "Mean comment length was:332.5\n",
      "Median comment length was:139.0\n",
      "variance comment length was:287114.08\n"
     ]
    }
   ],
   "source": [
    "# let get mean median and variance for these new values\n",
    "mean_length=round(df[\"Comment Length\"].mean(),2)\n",
    "median_length=round(df[\"Comment Length\"].median(),2)\n",
    "variance_length=round(df[\"Comment Length\"].var(),2)\n",
    "\n",
    "print(f\"Mean comment length was:{mean_length}\")\n",
    "print(f\"Median comment length was:{median_length}\")\n",
    "print(f\"variance comment length was:{variance_length}\")\n"
   ]
  },
  {
   "cell_type": "markdown",
   "metadata": {},
   "source": [
    "# Handing missing Values"
   ]
  },
  {
   "cell_type": "code",
   "execution_count": null,
   "metadata": {},
   "outputs": [
    {
     "name": "stdout",
     "output_type": "stream",
     "text": [
      "Missing values in each column:\n",
      "Post ID           0\n",
      "Post Title        0\n",
      "Comment ID        0\n",
      "User ID           0\n",
      "Comment           0\n",
      "Comment Length    0\n",
      "dtype: int64\n",
      "Missing values handled, and '[removed]' comments deleted.\n"
     ]
    }
   ],
   "source": [
    "#handling missing values\n",
    "missing_value = df.isnull().sum()\n",
    "print(f\"Missing values in each column:\\n{missing_value}\")\n",
    "\n",
    "# Drop rows with missing values\n",
    "df = df.dropna()\n",
    "\n",
    "# Remove comments that contain \"[removed]\"\n",
    "df = df[df['Comment'].str.strip().str.lower() != \"[removed]\"]\n",
    "\n",
    "df.to_csv(\"C:/Users/Dell/Desktop/Data science stuff/Project Data/Datasets/Election2024.csv\", index=False)\n",
    "\n",
    "print(\"Missing values handled, and '[removed]' comments deleted.\")\n"
   ]
  },
  {
   "cell_type": "markdown",
   "metadata": {},
   "source": [
    "# Handing duplicated comments"
   ]
  },
  {
   "cell_type": "code",
   "execution_count": 13,
   "metadata": {},
   "outputs": [
    {
     "name": "stdout",
     "output_type": "stream",
     "text": [
      "Number of duplicated comments:Empty DataFrame\n",
      "Columns: [Post ID, Post Title, Comment ID, User ID, Comment, Comment Length]\n",
      "Index: []\n"
     ]
    }
   ],
   "source": [
    "#drop duplicated comments\n",
    "df= df.drop_duplicates(subset=['Comment','User ID'],keep='first')\n",
    "df.to_csv(\"C:/Users/Dell/Desktop/Data science stuff/Project Data/Datasets/Election2024.csv\",index=False)\n",
    "# handle duplicates\n",
    "duplicates= df[df.duplicated(subset=['Comment'],keep =False)]\n",
    "\n",
    "print(f\"Number of duplicated comments:{duplicates}\")"
   ]
  },
  {
   "cell_type": "markdown",
   "metadata": {},
   "source": [
    "# Removing Outliers"
   ]
  },
  {
   "cell_type": "code",
   "execution_count": 15,
   "metadata": {},
   "outputs": [
    {
     "name": "stdout",
     "output_type": "stream",
     "text": [
      "Number of outliers:39\n",
      "<bound method NDFrame.head of                                                Comment  Comment Length\n",
      "5    I'm an independent who believes balance is ess...            4162\n",
      "9    The smart vote is for the Green party if you b...            1089\n",
      "15   We have our Voters pamphlet and are waiting fo...             928\n",
      "28   I'm an independent leaning voter by the way.\\n...            1807\n",
      "30   Republicans that endorse Kamala:\\nGeraldo Rive...            1145\n",
      "37   We live in terror of the Orange Retrovirus get...            1116\n",
      "43   So....I think the evidence of what happened th...            2233\n",
      "51   Lol. The wanting to end free speech literally ...            1431\n",
      "52   Free speech:\\nhttps://eu.statesman.com/story/n...            1238\n",
      "56   My Dad is reading the paper. At some point he ...            1578\n",
      "60   Oh that's terrible. Feeling a strong urge to t...            1726\n",
      "68   I feel a somewhat similar cycle from being a l...             902\n",
      "76   If we can't change anything quickly enough by ...             917\n",
      "83   He represents more peoples’ interests than the...            1327\n",
      "138  not you talking about democracy while telling ...             929\n",
      "145  Moderate is relative based on the position som...            1995\n",
      "154  I feel you on all of that for the most part as...            2753\n",
      "156  Trump has been charged for Jan 6th but Due Pro...            1776\n",
      "162  The short answer - I typed linking, I meant li...            1846\n",
      "229  Yeah, :) that is a funny dream. I think that's...             978\n",
      "235  Yeah, I do think it is a good thing that the f...             952\n",
      "240  First let me alleviate the fears of the Vote B...            1483\n",
      "248  On a very serious level I agree, there are no ...            1036\n",
      "256  Read newspapers your local paper, NY Times, Ho...            1636\n",
      "287  There's a lot in this post. \\n\\nWe need new pr...             959\n",
      "305  The nation is now deadlocked and gridlocked, 4...            1780\n",
      "309  LIAR, democracy works unless the far right or ...            1586\n",
      "312  **Iran made a fool of Trump**\\n\\nIn 2015, Ira...            1053\n",
      "322   \\n\\n* **1973:** The US Department of Justice ...            4756\n",
      "323  I'm a  straight, normal white male, a real Chr...            1775\n",
      "336  NO!   Hillary is as Trump told Stormy Daniels ...            1102\n",
      "338  Spoken like a true RNC spin doctor.  The GOP i...            2472\n",
      "344  The last actor to become president of a countr...            1272\n",
      "348  Homeless and crime spikes. \\n\\nThe largest fra...             964\n",
      "360  In an ideal world gender would not matter, but...            2015\n",
      "370  I think this is actually a very likely scenari...            1160\n",
      "416  I agree that Trump is the leading candidate, b...             941\n",
      "455  \\n# *DOWNLOAD MOVIE \"Once Upon a Time in the W...            4511\n",
      "457  Come on Trump went on about his shoes and then...            2282>\n",
      "Remaining outliers:439\n"
     ]
    }
   ],
   "source": [
    "#let identify outliers by calcualting the IQR \n",
    "Q1= df['Comment Length'].quantile(0.25)\n",
    "Q3=df['Comment Length'].quantile(0.75)\n",
    "IQR=Q3-Q1\n",
    "\n",
    "lower_bound=Q1- 1.5 *IQR\n",
    "upper_bound=Q3+1.5 *IQR\n",
    "\n",
    "outliers=df[(df['Comment Length']<lower_bound)|(df['Comment Length']> upper_bound)]\n",
    "\n",
    "print(f\"Number of outliers:{len(outliers)}\")\n",
    "print(outliers[['Comment','Comment Length']].head)\n",
    "\n",
    "df_clean= df[(df['Comment Length']>= lower_bound)&df['Comment Length']<=upper_bound]\n",
    "df_clean.to_csv(\"C:/Users/Dell/Desktop/Data science stuff/Project Data/Datasets/Election2024.csv\",index=False)\n",
    "\n",
    "remaining_outliers=df_clean[(df_clean['Comment Length']>= lower_bound)&df_clean['Comment Length']<=upper_bound]\n",
    "print(f\"Remaining outliers:{len(remaining_outliers)}\")"
   ]
  },
  {
   "cell_type": "markdown",
   "metadata": {},
   "source": [
    "# Making A visual diagrams using Matplotlib"
   ]
  },
  {
   "cell_type": "code",
   "execution_count": 16,
   "metadata": {},
   "outputs": [
    {
     "data": {
      "image/png": "[encoded data removed]",
      "text/plain": [
       "<Figure size 1000x600 with 1 Axes>"
      ]
     },
     "metadata": {},
     "output_type": "display_data"
    }
   ],
   "source": [
    "#let visulize data using matplot\n",
    "import matplotlib.pyplot as plt\n",
    "\n",
    "plt.figure(figsize=(10,6))\n",
    "plt.hist(df_clean['Comment Length'],bins=30,color=\"skyblue\",edgecolor='black')\n",
    "plt.title(\"Distribution of length of comments\")\n",
    "plt.xlabel(\"Comment length\")\n",
    "plt.ylabel(\"frequency\")\n",
    "plt.show()"
   ]
  },
  {
   "cell_type": "markdown",
   "metadata": {},
   "source": [
    "# Another plot diagram"
   ]
  },
  {
   "cell_type": "code",
   "execution_count": 1,
   "metadata": {},
   "outputs": [
    {
     "ename": "NameError",
     "evalue": "name 'df_clean' is not defined",
     "output_type": "error",
     "traceback": [
      "\u001b[1;31m---------------------------------------------------------------------------\u001b[0m",
      "\u001b[1;31mNameError\u001b[0m                                 Traceback (most recent call last)",
      "Cell \u001b[1;32mIn[1], line 3\u001b[0m\n\u001b[0;32m      1\u001b[0m \u001b[38;5;66;03m# another matplot implementation for number of comments for each post top 20 \u001b[39;00m\n\u001b[1;32m----> 3\u001b[0m comment_counts\u001b[38;5;241m=\u001b[39m\u001b[43mdf_clean\u001b[49m[\u001b[38;5;124m'\u001b[39m\u001b[38;5;124mPost ID\u001b[39m\u001b[38;5;124m'\u001b[39m]\u001b[38;5;241m.\u001b[39mvalue_counts()\n\u001b[0;32m      5\u001b[0m plt\u001b[38;5;241m.\u001b[39mfigure(figsize\u001b[38;5;241m=\u001b[39m(\u001b[38;5;241m12\u001b[39m,\u001b[38;5;241m6\u001b[39m))\n\u001b[0;32m      6\u001b[0m comment_counts\u001b[38;5;241m.\u001b[39mhead(\u001b[38;5;241m20\u001b[39m)\u001b[38;5;241m.\u001b[39mplot(kind\u001b[38;5;241m=\u001b[39m\u001b[38;5;124m'\u001b[39m\u001b[38;5;124mbar\u001b[39m\u001b[38;5;124m'\u001b[39m,color\u001b[38;5;241m=\u001b[39m\u001b[38;5;124m\"\u001b[39m\u001b[38;5;124msalmon\u001b[39m\u001b[38;5;124m\"\u001b[39m)\n",
      "\u001b[1;31mNameError\u001b[0m: name 'df_clean' is not defined"
     ]
    }
   ],
   "source": [
    "# another matplot implementation for number of comments for each post top 20 \n",
    "\n",
    "comment_counts=df_clean['Post ID'].value_counts()\n",
    "\n",
    "plt.figure(figsize=(12,6))\n",
    "comment_counts.head(20).plot(kind='bar',color=\"salmon\")\n",
    "plt.title(\"Number of comment per post (Top 20)\")\n",
    "plt.xlabel('Post ID')\n",
    "plt.ylabel('Number of comments')\n",
    "plt.show"
   ]
  },
  {
   "cell_type": "markdown",
   "metadata": {},
   "source": [
    "## Preprocessing and Feature Engineering\n",
    "- Apply transformations (scaling, encoding, feature interactions)."
   ]
  },
  {
   "cell_type": "code",
   "execution_count": 3,
   "metadata": {},
   "outputs": [],
   "source": [
    "import pandas as pd\n",
    "from sklearn.preprocessing import StandardScaler\n",
    "\n",
    "train_df = pd.read_csv(\"C:\\\\Users\\\\Dell\\\\Desktop\\\\Data science stuff\\\\Project Data\\\\Datasets\\\\election data\\\\train.csv\")\n",
    "test_df = pd.read_csv(\"C:\\\\Users\\\\Dell\\\\Desktop\\\\Data science stuff\\\\Project Data\\\\Datasets\\\\election data\\\\test.csv\")\n",
    "\n",
    "# Initialize the scaler\n",
    "scaler = StandardScaler()\n",
    "\n",
    "# Fit on train, transform both train and test\n",
    "train_df['scaled_length'] = scaler.fit_transform(train_df[['Comment Length']])\n",
    "test_df['scaled_length'] = scaler.transform(test_df[['Comment Length']])\n",
    "\n",
    "# Save the updated files (optional)\n",
    "train_df.to_csv(\"C:\\\\Users\\\\Dell\\\\Desktop\\\\Data science stuff\\\\Project Data\\\\Datasets\\\\election data\\\\train.csv\", index=False)\n",
    "test_df.to_csv(\"C:\\\\Users\\\\Dell\\\\Desktop\\\\Data science stuff\\\\Project Data\\\\Datasets\\\\election data\\\\test.csv\", index=False)\n",
    "\n"
   ]
  },
  {
   "cell_type": "markdown",
   "metadata": {},
   "source": [
    "\n",
    "---"
   ]
  },
  {
   "cell_type": "markdown",
   "metadata": {},
   "source": [
    "# Milestone 2: Advanced Data Analysis and Feature Engineering"
   ]
  },
  {
   "cell_type": "markdown",
   "metadata": {},
   "source": [
    "## Statistical Analysis\n",
    "- Conduct tests such as t-tests, ANOVA, and chi-squared to explore relationships."
   ]
  },
  {
   "cell_type": "markdown",
   "metadata": {},
   "source": [
    "## Anova testing to see if different in mean of sentimal values"
   ]
  },
  {
   "cell_type": "code",
   "execution_count": null,
   "metadata": {},
   "outputs": [
    {
     "name": "stdout",
     "output_type": "stream",
     "text": [
      "ANOVA Results:\n",
      "F-statistic: 4.1666\n",
      "P-value: 0.0158\n",
      "There is a statistically significant difference in comment lengths between sentiment groups.\n"
     ]
    }
   ],
   "source": [
    "# Making Anova test to see the difference \n",
    "import pandas as pd\n",
    "from scipy.stats import f_oneway\n",
    "\n",
    "df = pd.read_csv(\"C:\\\\Users\\\\Dell\\\\Desktop\\\\Data science stuff\\\\Project Data\\\\Datasets\\\\election data\\\\train.csv\")\n",
    "\n",
    "df['sentiment'] = df['sentiment'].str.lower()\n",
    "\n",
    "# Separating the comment lengths by sentiment\n",
    "positive = df[df['sentiment'] == 'positive']['Comment Length']\n",
    "negative = df[df['sentiment'] == 'negative']['Comment Length']\n",
    "neutral = df[df['sentiment'] == 'neutral']['Comment Length']\n",
    "\n",
    "#Performing one-way ANOVA\n",
    "f_stat, p_val = f_oneway(positive, negative, neutral)\n",
    "\n",
    "print(\"ANOVA Results:\")\n",
    "print(f\"F-statistic: {f_stat:.4f}\")\n",
    "print(f\"P-value: {p_val:.4f}\")\n",
    "\n",
    "#Check if difference is there or not\n",
    "if p_val < 0.05:\n",
    "    print(\"There is a statistically significant difference in comment lengths between sentiment groups.\")\n",
    "else:\n",
    "    print(\"There isn't a statistically significant difference in comment lengths between sentiment groups.\")\n"
   ]
  },
  {
   "cell_type": "markdown",
   "metadata": {},
   "source": [
    "## Doing chi squarred test to catogrize comment length"
   ]
  },
  {
   "cell_type": "code",
   "execution_count": null,
   "metadata": {},
   "outputs": [
    {
     "name": "stdout",
     "output_type": "stream",
     "text": [
      "Contingency Table:\n",
      " sentiment        -1    0    1\n",
      "Length Category              \n",
      "Long             48    5  108\n",
      "Medium           71  230  279\n",
      "Short            11   43   32\n",
      "\n",
      "Chi-squared Test Results:\n",
      "Chi2 Statistic: 95.41\n",
      "p-value: 0.0000\n",
      "Degrees of Freedom: 4\n"
     ]
    }
   ],
   "source": [
    "import pandas as pd\n",
    "from scipy.stats import chi2_contingency\n",
    "\n",
    "df = pd.read_csv(\"C:\\\\Users\\\\Dell\\\\Desktop\\\\Data science stuff\\\\Project Data\\\\Datasets\\\\election data\\\\train.csv\")\n",
    "\n",
    "def categorize_length(length):\n",
    "    if length <= 50:\n",
    "        return 'Short'\n",
    "    elif 50 < length <= 150:\n",
    "        return 'Medium'\n",
    "    else:\n",
    "        return 'Long'\n",
    "\n",
    "df['Length Category'] = df['Comment Length'].apply(categorize_length)\n",
    "\n",
    "#clean sentiment values incase there any spaces or uppercase letters\n",
    "df['sentiment'] = df['sentiment'].astype(str).str.strip().str.lower()\n",
    "\n",
    "\n",
    "\n",
    "contingency_table = pd.crosstab(df['Length Category'], df['sentiment'])\n",
    "\n",
    "chi2, p, dof, expected = chi2_contingency(contingency_table)\n",
    "\n",
    "# Output\n",
    "print(\"Contingency Table:\\n\", contingency_table)\n",
    "print(\"\\nChi-squared Test Results:\")\n",
    "print(f\"Chi2 Statistic: {chi2:.2f}\")\n",
    "print(f\"p-value: {p:.4f}\")\n",
    "print(f\"Degrees of Freedom: {dof}\")\n",
    "\n",
    "df.to_csv(\"C:\\\\Users\\\\Dell\\\\Desktop\\\\Data science stuff\\\\Project Data\\\\Datasets\\\\election data\\\\train.csv\", index=False)"
   ]
  },
  {
   "cell_type": "markdown",
   "metadata": {},
   "source": [
    "## Feature Engineering\n",
    "- Create derived features based on domain knowledge.\n",
    "- Apply transformations such as normalization, log scaling, or polynomial features."
   ]
  },
  {
   "cell_type": "code",
   "execution_count": 7,
   "metadata": {},
   "outputs": [
    {
     "name": "stdout",
     "output_type": "stream",
     "text": [
      "Transformed `sentiment` column in train.csv and test.csv\n",
      "                                             Comment  sentiment\n",
      "0  Excited to see Kamala Harris leading the Democ...          1\n",
      "1  Donald Trump's policies are the best for our e...          1\n",
      "2  Jill Stein's environmental plans are exactly w...          1\n",
      "3  Robert Kennedy offers a fresh perspective outs...          1\n",
      "4  Chase Oliver's libertarian stance promotes tru...          1\n"
     ]
    }
   ],
   "source": [
    "from textblob import TextBlob\n",
    "import pandas as pd\n",
    "\n",
    "#function to apply transformation on the sentiment values text to numeric\n",
    "def convert_sentiment(df):\n",
    "    df['sentiment'] = df['Comment'].apply(lambda x: TextBlob(str(x)).sentiment.polarity)\n",
    "    df['sentiment'] = df['sentiment'].apply(lambda x: 1 if x > 0 else (-1 if x < 0 else 0))\n",
    "    return df\n",
    "\n",
    "\n",
    "train_path = \"C:\\\\Users\\\\Dell\\\\Desktop\\\\Data science stuff\\\\Project Data\\\\Datasets\\\\election data\\\\train.csv\"\n",
    "test_path = \"C:\\\\Users\\\\Dell\\\\Desktop\\\\Data science stuff\\\\Project Data\\\\Datasets\\\\election data\\\\test.csv\"\n",
    "\n",
    "# Apply conversion\n",
    "train_df = pd.read_csv(train_path)\n",
    "test_df = pd.read_csv(test_path)\n",
    "\n",
    "train_df = convert_sentiment(train_df)\n",
    "test_df = convert_sentiment(test_df)\n",
    "\n",
    "train_df.to_csv(train_path, index=False)\n",
    "test_df.to_csv(test_path, index=False)\n",
    "\n",
    "print(\"Transformed `sentiment` column in train.csv and test.csv\")\n",
    "print(train_df[['Comment', 'sentiment']].head())\n"
   ]
  },
  {
   "cell_type": "markdown",
   "metadata": {},
   "source": [
    "## Data Visualization\n",
    "- Generate insightful visualizations:\n",
    "  - Correlation heatmaps, pair plots.\n",
    "  - Trends and comparisons using bar charts, line charts, and dashboards."
   ]
  },
  {
   "cell_type": "code",
   "execution_count": 8,
   "metadata": {},
   "outputs": [
    {
     "data": {
      "image/png": "[encoded data removed]",
      "text/plain": [
       "<Figure size 800x600 with 2 Axes>"
      ]
     },
     "metadata": {},
     "output_type": "display_data"
    }
   ],
   "source": [
    "# we can visualize the colleration between comment length and sentimental value using heatmap\n",
    "import pandas as pd\n",
    "import seaborn as sns\n",
    "import matplotlib.pyplot as plt\n",
    "\n",
    "df = pd.read_csv(\"C:\\\\Users\\\\Dell\\\\Desktop\\\\Data science stuff\\\\Project Data\\\\Datasets\\\\election data\\\\train.csv\")\n",
    "\n",
    "def categorize_length(length):\n",
    "    if length <= 50:\n",
    "        return 'Short'\n",
    "    elif 50 < length <= 150:\n",
    "        return 'Medium'\n",
    "    else:\n",
    "        return 'Long'\n",
    "\n",
    "df['Length Category'] = df['Comment Length'].apply(categorize_length)\n",
    "\n",
    "#clean and ensure sentiment is numeric\n",
    "if df['sentiment'].dtype == object:\n",
    "    df['sentiment'] = df['sentiment'].str.strip().str.lower()\n",
    "    sentiment_map = {'positive': 1, 'neutral': 0, 'negative': -1}\n",
    "    df['sentiment'] = df['sentiment'].map(sentiment_map)\n",
    "\n",
    "\n",
    "correlation_df = df[['Comment Length', 'sentiment']]\n",
    "\n",
    "corr_matrix = correlation_df.corr()\n",
    "\n",
    "#plot heatmap\n",
    "plt.figure(figsize=(8, 6))\n",
    "sns.heatmap(corr_matrix, annot=True, cmap='coolwarm', fmt='.2f')\n",
    "plt.title('Correlation Heatmap: Sentiment vs Comment Length')\n",
    "plt.show()\n",
    "\n"
   ]
  },
  {
   "cell_type": "markdown",
   "metadata": {},
   "source": [
    "## Another graph to show"
   ]
  },
  {
   "cell_type": "code",
   "execution_count": 13,
   "metadata": {},
   "outputs": [
    {
     "data": {
      "image/png": "[encoded data removed]",
      "text/plain": [
       "<Figure size 800x600 with 1 Axes>"
      ]
     },
     "metadata": {},
     "output_type": "display_data"
    }
   ],
   "source": [
    "import pandas as pd\n",
    "import seaborn as sns\n",
    "import matplotlib.pyplot as plt\n",
    "\n",
    "# Load the dataset\n",
    "df = pd.read_csv(\"C:\\\\Users\\\\Dell\\\\Desktop\\\\Data science stuff\\\\Project Data\\\\Datasets\\\\election data\\\\train.csv\")\n",
    "\n",
    "# Ensure 'sentiment' is numeric\n",
    "df['sentiment'] = pd.to_numeric(df['sentiment'], errors='coerce')\n",
    "\n",
    "# Drop any rows with missing sentiment or length category\n",
    "df = df.dropna(subset=['sentiment', 'Length Category'])\n",
    "\n",
    "# Set proper category order\n",
    "category_order = ['Short', 'Medium', 'Long']\n",
    "df['Length Category'] = pd.Categorical(df['Length Category'], categories=category_order, ordered=True)\n",
    "\n",
    "# Plot bar plot\n",
    "plt.figure(figsize=(8, 6))\n",
    "sns.barplot(x='Length Category', y='sentiment', data=df, order=category_order, errorbar=None)\n",
    "plt.title(\"Average Sentiment by Comment Length Category\")\n",
    "plt.xlabel(\"Comment Length Category\")\n",
    "plt.ylabel(\"Average Sentiment Score (-1 = Negative, 1 = Positive)\")\n",
    "plt.ylim(-1.1, 1.1)\n",
    "plt.grid(axis='y', linestyle='--', alpha=0.7)\n",
    "plt.tight_layout()\n",
    "plt.show()\n"
   ]
  },
  {
   "cell_type": "markdown",
   "metadata": {},
   "source": [
    "\n",
    "---\n"
   ]
  },
  {
   "cell_type": "markdown",
   "metadata": {},
   "source": [
    "# Milestone 3: Machine Learning Model Development and Optimization"
   ]
  },
  {
   "cell_type": "markdown",
   "metadata": {},
   "source": [
    "## Model Selection\n",
    "- Choose appropriate models for the problem type (classification, regression, clustering, etc.).\n"
   ]
  },
  {
   "cell_type": "code",
   "execution_count": 5,
   "metadata": {},
   "outputs": [],
   "source": [
    "import pandas as pd\n",
    "from sklearn.model_selection import train_test_split\n",
    "from sklearn.feature_extraction.text import TfidfVectorizer\n",
    "from sklearn.linear_model import LogisticRegression\n",
    "from sklearn.metrics import classification_report, accuracy_score\n",
    "from sklearn.pipeline import Pipeline"
   ]
  },
  {
   "cell_type": "markdown",
   "metadata": {},
   "source": [
    "## Model Training\n",
    "- Split data into training, validation, and testing sets.\n",
    "- Address imbalances using techniques like SMOTE or stratified sampling."
   ]
  },
  {
   "cell_type": "code",
   "execution_count": 6,
   "metadata": {},
   "outputs": [
    {
     "data": {
      "text/plain": [
       "array([ 1,  1,  1,  1,  0,  0,  1,  0,  0,  1,  0,  1,  0,  1,  0,  1,  1,\n",
       "        0,  0,  1,  0,  1,  0,  0,  0, -1,  0,  0,  0,  0,  1,  1,  1,  0,\n",
       "        1,  1,  1,  1,  0,  1,  1,  0, -1,  1,  1,  0,  1,  0,  1, -1,  1,\n",
       "        1,  0,  1,  1,  1,  1,  1,  1,  1,  1,  1,  1,  1,  1,  1,  1,  1,\n",
       "        1,  1,  1,  1,  1,  1,  1,  1,  1,  1,  1,  1,  1,  1,  1,  1,  1,\n",
       "        1,  1,  1,  1,  1,  1,  1,  1,  1,  1,  1,  1,  1,  1,  1,  1,  1,\n",
       "        1,  1,  1,  1,  0,  1,  1,  1,  1,  1,  1,  1,  1,  1,  1,  1,  1,\n",
       "        1,  1,  1, -1,  1,  1,  1,  1,  1,  1,  1,  1,  1,  1,  1,  1,  1,\n",
       "        1,  1,  1,  1,  1,  1,  1,  1,  1,  1,  0,  1,  1,  1,  1,  1,  1,\n",
       "        1,  1,  1,  1,  1])"
      ]
     },
     "execution_count": 6,
     "metadata": {},
     "output_type": "execute_result"
    }
   ],
   "source": [
    "import joblib\n",
    "train_df = pd.read_csv(\"C:\\\\Users\\\\Dell\\\\Desktop\\\\Data science stuff\\\\Project Data\\\\Datasets\\\\election data\\\\train.csv\")\n",
    "test_df = pd.read_csv(\"C:\\\\Users\\\\Dell\\\\Desktop\\\\Data science stuff\\\\Project Data\\\\Datasets\\\\election data\\\\test.csv\")\n",
    "\n",
    "train_df['sentiment'] = train_df['sentiment'].astype(int)\n",
    "test_df['sentiment'] = test_df['sentiment'].astype(int)\n",
    "\n",
    "\n",
    "X_train = train_df['Comment']\n",
    "y_train = train_df['sentiment']\n",
    "X_test = test_df['Comment']\n",
    "y_test = test_df['sentiment']\n",
    "\n",
    "# Create a pipeline: TF-IDF + Logistic Regression\n",
    "model = Pipeline([\n",
    "    ('tfidf', TfidfVectorizer(stop_words='english')),\n",
    "    ('clf', LogisticRegression(max_iter=1000))\n",
    "])\n",
    "\n",
    "\n",
    "model.fit(X_train, y_train)\n",
    "joblib.dump(model, \"sentiment_model.pkl\")\n",
    "\n",
    "y_pred = model.predict(X_test)\n",
    "y_pred"
   ]
  },
  {
   "cell_type": "markdown",
   "metadata": {},
   "source": [
    "## Model Evaluation\n",
    "- Metrics to consider: Accuracy, Precision, Recall, F1-score, RMSE, etc.\n",
    "- Visual tools: Confusion matrices, ROC curves."
   ]
  },
  {
   "cell_type": "code",
   "execution_count": null,
   "metadata": {},
   "outputs": [
    {
     "name": "stdout",
     "output_type": "stream",
     "text": [
      "              precision    recall  f1-score   support\n",
      "\n",
      "          -1       1.00      0.12      0.21        34\n",
      "           0       0.96      0.56      0.71        43\n",
      "           1       0.62      0.99      0.76        81\n",
      "\n",
      "    accuracy                           0.68       158\n",
      "   macro avg       0.86      0.55      0.56       158\n",
      "weighted avg       0.79      0.68      0.63       158\n",
      "\n"
     ]
    }
   ],
   "source": [
    "# Predict and evaluate\n",
    "y_pred = model.predict(X_test)\n",
    "print(classification_report(y_test, y_pred))"
   ]
  },
  {
   "cell_type": "markdown",
   "metadata": {},
   "source": [
    "## Hyperparameter Tuning\n",
    "- Techniques: Grid Search, Random Search, or advanced methods like Bayesian Optimization."
   ]
  },
  {
   "cell_type": "code",
   "execution_count": null,
   "metadata": {},
   "outputs": [
    {
     "name": "stdout",
     "output_type": "stream",
     "text": [
      "Fitting 5 folds for each of 36 candidates, totalling 180 fits\n",
      "Best Parameters: {'clf__C': 10, 'clf__penalty': 'l2', 'clf__solver': 'lbfgs', 'tfidf__max_df': 0.75, 'tfidf__min_df': 2, 'tfidf__ngram_range': (1, 2)}\n",
      "Best Score: 0.6695786581571925\n",
      "              precision    recall  f1-score   support\n",
      "\n",
      "          -1       0.84      0.47      0.60        34\n",
      "           0       0.82      0.74      0.78        43\n",
      "           1       0.76      0.94      0.84        81\n",
      "\n",
      "    accuracy                           0.78       158\n",
      "   macro avg       0.81      0.72      0.74       158\n",
      "weighted avg       0.79      0.78      0.77       158\n",
      "\n"
     ]
    }
   ],
   "source": [
    "from sklearn.model_selection import GridSearchCV\n",
    "param_grid = {\n",
    "    'tfidf__ngram_range': [(1, 1), (1, 2)],          # Unigrams or bigrams\n",
    "    'tfidf__max_df': [0.75, 0.9, 1.0],               # Ignore very frequent words\n",
    "    'tfidf__min_df': [1, 2],                         # Ignore very rare words\n",
    "    'clf__C': [0.1, 1, 10],                          # Regularization strength\n",
    "    'clf__penalty': ['l2'],                          # 'l2' works with most solvers\n",
    "    'clf__solver': ['lbfgs']                         # Fast solver for small datasets\n",
    "}\n",
    "\n",
    "grid_search = GridSearchCV(\n",
    "    model,                # Your pipeline\n",
    "    param_grid,           # The grid we defined\n",
    "    cv=5,                 # 5-fold cross-validation\n",
    "    scoring='f1_macro',   # Or 'accuracy', 'f1_weighted' etc.\n",
    "    n_jobs=-1,            # Use all available cores\n",
    "    verbose=2             # Optional: shows progress\n",
    ")\n",
    "\n",
    "grid_search.fit(X_train, y_train)\n",
    "\n",
    "print(\"Best Parameters:\", grid_search.best_params_)\n",
    "print(\"Best Score:\", grid_search.best_score_)\n",
    "\n",
    "best_model = grid_search.best_estimator_\n",
    "y_pred = best_model.predict(X_test)\n",
    "\n",
    "print(classification_report(y_test, y_pred))\n"
   ]
  },
  {
   "cell_type": "markdown",
   "metadata": {},
   "source": [
    "## Model Comparison\n",
    "- Compare multiple models and justify the final model selection."
   ]
  },
  {
   "cell_type": "code",
   "execution_count": null,
   "metadata": {},
   "outputs": [
    {
     "name": "stdout",
     "output_type": "stream",
     "text": [
      "Logistic Regression Results: \n",
      "Accuracy: 0.7848101265822784\n",
      "F1 Score (macro): 0.7413467984361904\n",
      "              precision    recall  f1-score   support\n",
      "\n",
      "          -1       0.84      0.47      0.60        34\n",
      "           0       0.82      0.74      0.78        43\n",
      "           1       0.76      0.94      0.84        81\n",
      "\n",
      "    accuracy                           0.78       158\n",
      "   macro avg       0.81      0.72      0.74       158\n",
      "weighted avg       0.79      0.78      0.77       158\n",
      "\n",
      "\n",
      "Naive Bayes Results: \n",
      "Accuracy: 0.6708860759493671\n",
      "F1 Score (macro): 0.5216967179584002\n",
      "              precision    recall  f1-score   support\n",
      "\n",
      "          -1       1.00      0.06      0.11        34\n",
      "           0       1.00      0.53      0.70        43\n",
      "           1       0.61      1.00      0.76        81\n",
      "\n",
      "    accuracy                           0.67       158\n",
      "   macro avg       0.87      0.53      0.52       158\n",
      "weighted avg       0.80      0.67      0.60       158\n",
      "\n"
     ]
    }
   ],
   "source": [
    "from sklearn.pipeline import Pipeline\n",
    "from sklearn.naive_bayes import MultinomialNB\n",
    "from sklearn.feature_extraction.text import TfidfVectorizer\n",
    "from sklearn.metrics import accuracy_score, f1_score, classification_report\n",
    "\n",
    "#Naive Bayes pipeline\n",
    "nb_model = Pipeline([\n",
    "    ('tfidf', TfidfVectorizer(stop_words='english')),\n",
    "    ('clf', MultinomialNB())\n",
    "])\n",
    "\n",
    "nb_model.fit(X_train, y_train)\n",
    "nb_pred = nb_model.predict(X_test)\n",
    "\n",
    "# Metrics comprasions\n",
    "print(\"Logistic Regression Results: \")\n",
    "print(\"Accuracy:\", accuracy_score(y_test, y_pred))\n",
    "print(\"F1 Score (macro):\", f1_score(y_test, y_pred, average='macro'))\n",
    "print(classification_report(y_test, y_pred))\n",
    "\n",
    "print(\"\\nNaive Bayes Results: \")\n",
    "print(\"Accuracy:\", accuracy_score(y_test, nb_pred))\n",
    "print(\"F1 Score (macro):\", f1_score(y_test, nb_pred, average='macro'))\n",
    "print(classification_report(y_test, nb_pred))\n"
   ]
  },
  {
   "cell_type": "markdown",
   "metadata": {},
   "source": [
    "## Visualization for Research Questions\n",
    "- This section will include the visualizations that provide insights for the research questions defined earlier.  \n",
    "- **Development Steps for Answering the Research Questions**:\n",
    "  1. During **Exploratory Data Analysis (EDA)**, visualize initial patterns or trends related to the research questions.\n",
    "  2. During **Model Evaluation**, provide visualizations to interpret model performance with respect to the research questions.\n",
    "  3. During the **Final Analysis and Reporting**, present polished visualizations that summarize findings for each research question.\n",
    "\n",
    "- Create the visualizations for each research question you defined, prove it or answer it, then add a markdown cell after each visual to comment and explain how the visual support your research question."
   ]
  },
  {
   "cell_type": "markdown",
   "metadata": {},
   "source": [
    "## Visualization for model performance"
   ]
  },
  {
   "cell_type": "code",
   "execution_count": null,
   "metadata": {},
   "outputs": [
    {
     "data": {
      "image/png": "[encoded data removed]",
      "text/plain": [
       "<Figure size 640x480 with 2 Axes>"
      ]
     },
     "metadata": {},
     "output_type": "display_data"
    }
   ],
   "source": [
    "from sklearn.metrics import confusion_matrix, ConfusionMatrixDisplay\n",
    "import matplotlib.pyplot as plt\n",
    "\n",
    "# Creating confusion matrix to visualize how model preformed \n",
    "cm = confusion_matrix(y_test, y_pred, labels=[-1, 0, 1])\n",
    "\n",
    "# Display graph\n",
    "disp = ConfusionMatrixDisplay(confusion_matrix=cm, display_labels=[-1, 0, 1])\n",
    "disp.plot(cmap='Blues')\n",
    "plt.title(\"Confusion Matrix: Actual vs Predicted Sentiment\")\n",
    "plt.show()\n"
   ]
  },
  {
   "cell_type": "markdown",
   "metadata": {},
   "source": [
    "\n",
    "---\n"
   ]
  },
  {
   "cell_type": "markdown",
   "metadata": {},
   "source": [
    "# Milestone 4: Deployment and Monitoring"
   ]
  },
  {
   "cell_type": "markdown",
   "metadata": {},
   "source": [
    "## Deployment\n",
    "- Deploy the model as a REST API (Flask, FastAPI) or interactive dashboards (Streamlit, Dash).\n",
    "- Host on cloud platforms (AWS, Azure, GCP) or local servers."
   ]
  },
  {
   "cell_type": "code",
   "execution_count": 7,
   "metadata": {},
   "outputs": [
    {
     "name": "stdout",
     "output_type": "stream",
     "text": [
      "Overwriting app.py\n"
     ]
    }
   ],
   "source": [
    "%%writefile app.py\n",
    "import streamlit as st\n",
    "import joblib\n",
    "\n",
    "model = joblib.load(\"sentiment_model.pkl\")\n",
    "\n",
    "st.title(\"Sentiment Classifier\")\n",
    "st.write(\"Enter a comment to predict sentiment (-1: Negative, 0: Neutral, 1: Positive)\")\n",
    "\n",
    "text = st.text_area(\"Your Comment:\")\n",
    "\n",
    "if st.button(\"Predict\"):\n",
    "    if text.strip() == \"\":\n",
    "        st.warning(\"Please enter a comment.\")\n",
    "    else:\n",
    "        prediction = model.predict([text])[0]\n",
    "        label = { -1: \"Negative\", 0: \"Neutral\", 1: \"Positive\" }.get(prediction, \"Unknown\")\n",
    "        st.success(f\"Predicted Sentiment: **{label}**\")\n",
    "\n"
   ]
  },
  {
   "cell_type": "markdown",
   "metadata": {},
   "source": [
    "\n",
    "---\n"
   ]
  },
  {
   "cell_type": "markdown",
   "metadata": {},
   "source": [
    "# Milestone 5: Final Documentation and Presentation"
   ]
  },
  {
   "cell_type": "markdown",
   "metadata": {},
   "source": [
    "## Final Report\n",
    "- Summarize all project phases, including methodologies and insights.\n",
    "- Provide actionable recommendations based on findings."
   ]
  },
  {
   "cell_type": "markdown",
   "metadata": {},
   "source": []
  },
  {
   "cell_type": "markdown",
   "metadata": {},
   "source": [
    "## Final Presentation\n",
    "- Create a presentation for stakeholders, highlighting key results.\n",
    "- Include a demo of the deployed application or model."
   ]
  },
  {
   "cell_type": "markdown",
   "metadata": {},
   "source": []
  },
  {
   "cell_type": "markdown",
   "metadata": {},
   "source": [
    "## Future Improvements\n",
    "- Suggest areas for enhancement:\n",
    "  - Incorporating more diverse data.\n",
    "  - Experimenting with additional algorithms.\n",
    "  - Optimizing deployment for scalability."
   ]
  },
  {
   "cell_type": "markdown",
   "metadata": {},
   "source": []
  },
  {
   "cell_type": "markdown",
   "metadata": {},
   "source": [
    "---"
   ]
  },
  {
   "cell_type": "markdown",
   "metadata": {},
   "source": [
    "# Additional Sections"
   ]
  },
  {
   "cell_type": "markdown",
   "metadata": {},
   "source": [
    "## Challenges Faced\n",
    "- Document key challenges encountered during the project lifecycle."
   ]
  },
  {
   "cell_type": "markdown",
   "metadata": {},
   "source": []
  },
  {
   "cell_type": "markdown",
   "metadata": {},
   "source": [
    "## Lessons Learned\n",
    "- Reflect on insights and skills gained through the project."
   ]
  },
  {
   "cell_type": "markdown",
   "metadata": {},
   "source": []
  },
  {
   "cell_type": "markdown",
   "metadata": {},
   "source": [
    "## References\n",
    "- List resources for datasets, tools, and techniques utilized."
   ]
  },
  {
   "cell_type": "markdown",
   "metadata": {},
   "source": []
  },
  {
   "cell_type": "markdown",
   "metadata": {},
   "source": [
    "---"
   ]
  },
  {
   "cell_type": "markdown",
   "metadata": {},
   "source": [
    "# More Sections for Specific Projects"
   ]
  },
  {
   "cell_type": "markdown",
   "metadata": {},
   "source": [
    "## Ethical Considerations\n",
    "- Discuss privacy, fairness, or other ethical implications."
   ]
  },
  {
   "cell_type": "markdown",
   "metadata": {},
   "source": []
  },
  {
   "cell_type": "markdown",
   "metadata": {},
   "source": [
    "## Business Impact\n",
    "- Highlight how the findings address the original objective."
   ]
  },
  {
   "cell_type": "markdown",
   "metadata": {},
   "source": []
  },
  {
   "cell_type": "markdown",
   "metadata": {},
   "source": [
    "## Team Contributions\n",
    "- Acknowledge contributions from team members and collaborators."
   ]
  },
  {
   "cell_type": "markdown",
   "metadata": {},
   "source": []
  },
  {
   "cell_type": "markdown",
   "metadata": {},
   "source": [
    "\n",
    "---\n"
   ]
  },
  {
   "cell_type": "markdown",
   "metadata": {},
   "source": [
    "# Reflection: Data Science Lifecycle Steps and Big Data\n",
    "\n",
    "Reflect on which steps of the data science lifecycle can and cannot be effectively applied to big data, and justify your answers:"
   ]
  },
  {
   "cell_type": "markdown",
   "metadata": {},
   "source": [
    "## Steps That Can Be Used with Big Data\n",
    "\n",
    "Create a list for the steps that can be used with big data with how each step can be used, why is such step applicable and an example tool used for such step in big data world.\n",
    "\n",
    "Include tools, methods, or technologies that make these steps scalable."
   ]
  },
  {
   "cell_type": "markdown",
   "metadata": {},
   "source": []
  },
  {
   "cell_type": "markdown",
   "metadata": {},
   "source": [
    "## Steps That Are Challenging with Big Data\n",
    "\n",
    "Create a list for the steps that are challenging with big data with the solution for the challenge, why is such step challenging and an example tool used for such step in big data world.\n",
    "\n",
    "Explain why these steps are difficult and suggest potential solutions."
   ]
  },
  {
   "cell_type": "markdown",
   "metadata": {},
   "source": []
  },
  {
   "cell_type": "markdown",
   "metadata": {},
   "source": [
    "## Recommendations for Big Data Projects\n",
    "\n",
    "Create a list for the recommendations you have for other data scientists willing to take your project with a big data approach."
   ]
  },
  {
   "cell_type": "markdown",
   "metadata": {},
   "source": []
  },
  {
   "cell_type": "markdown",
   "metadata": {},
   "source": [
    "---"
   ]
  }
 ],
 "metadata": {
  "kernelspec": {
   "display_name": "ds_env",
   "language": "python",
   "name": "python3"
  },
  "language_info": {
   "codemirror_mode": {
    "name": "ipython",
    "version": 3
   },
   "file_extension": ".py",
   "mimetype": "text/x-python",
   "name": "python",
   "nbconvert_exporter": "python",
   "pygments_lexer": "ipython3",
   "version": "3.10.16"
  }
 },
 "nbformat": 4,
 "nbformat_minor": 2
}
